{
 "cells": [
  {
   "cell_type": "code",
   "execution_count": 36,
   "metadata": {},
   "outputs": [],
   "source": [
    "import numpy as np  #載入模組Numpy,命名空間改為np\n",
    "import cv2  #載入模組opencv-python"
   ]
  },
  {
   "cell_type": "code",
   "execution_count": null,
   "metadata": {},
   "outputs": [],
   "source": [
    "img=np.zeros([512,512,3],dtype='uint8')\n",
    "for i in range(0,8):\n",
    "    for j in range(0,8):\n",
    "        if(i%2==1):\n",
    "                rectangleX=i*64\n",
    "                rectangleY=j*64\n",
    "                rectangleX2=rectangleX+64\n",
    "                rectangleY2=rectangleY+64\n",
    "                cv2.rectangle(img,(rectangleX,rectangleY),(rectangleX2,rectangleY2),(255,255,255),-1)\n",
    "        if(j%2==1):\n",
    "                rectangleX=i*64\n",
    "                rectangleY=j*64\n",
    "                rectangleX2=rectangleX+64\n",
    "                rectangleY2=rectangleY+64\n",
    "                cv2.rectangle(img,(rectangleX,rectangleY),(rectangleX2,rectangleY2),(255,255,255),-1)\n",
    "for i in range(0,8):\n",
    "    for j in range(0,8):\n",
    "        if((i+j)%2==0):\n",
    "            rectangleX=i*64\n",
    "            rectangleY=j*64\n",
    "            rectangleX2=rectangleX+64\n",
    "            rectangleY2=rectangleY+64\n",
    "            cv2.rectangle(img,(rectangleX,rectangleY),(rectangleX2,rectangleY2),(0,0,0),-1)\n",
    "\n",
    "cv2.imshow(\"Chesstable\",img)\n",
    "cv2.waitKey(0)\n",
    "cv2.imwrite(\"Chesstable.bmp\",img)\n",
    "cv2.destroyAllWindows()"
   ]
  },
  {
   "cell_type": "code",
   "execution_count": 67,
   "metadata": {},
   "outputs": [],
   "source": [
    "img=np.zeros([512,512,3],dtype='uint8')\n",
    "cv2.rectangle(img,(0,0),(64,64),(255,255,255),-1)\n",
    "cv2.imshow(\"Chesstable\",img)\n",
    "cv2.waitKey(0)\n",
    "cv2.imwrite(\"Chesstable.bmp\",img)\n",
    "cv2.destroyAllWindows()"
   ]
  },
  {
   "cell_type": "code",
   "execution_count": null,
   "metadata": {},
   "outputs": [],
   "source": []
  }
 ],
 "metadata": {
  "kernelspec": {
   "display_name": "Python 3",
   "language": "python",
   "name": "python3"
  },
  "language_info": {
   "codemirror_mode": {
    "name": "ipython",
    "version": 3
   },
   "file_extension": ".py",
   "mimetype": "text/x-python",
   "name": "python",
   "nbconvert_exporter": "python",
   "pygments_lexer": "ipython3",
   "version": "3.8.5"
  }
 },
 "nbformat": 4,
 "nbformat_minor": 4
}
