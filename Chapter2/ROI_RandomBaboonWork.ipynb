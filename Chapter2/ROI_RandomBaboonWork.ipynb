{
 "cells": [
  {
   "cell_type": "code",
   "execution_count": 33,
   "metadata": {},
   "outputs": [],
   "source": [
    "import numpy as np  #載入模組Numpy,命名空間改為np\n",
    "import cv2  #載入模組opencv-python\n",
    "import random\n",
    "#filename = \"Baboon.bmp\"\n",
    "ROI_nr , ROI_nc = 100,100\n",
    "img = cv2.imread(\"Baboon.bmp\",-1)  #影像讀取\n",
    "nr,nc=img.shape[:2]\n",
    "\n"
   ]
  },
  {
   "cell_type": "code",
   "execution_count": 39,
   "metadata": {},
   "outputs": [],
   "source": [
    "for i in range (10) :\n",
    "    ROI_X = random.randrange(nr-100) #由於baboon的照片大小為512 所以只能選擇範圍在 0~512之間 \n",
    "                                  #又因為題目要求必須存取100*100的照片，故選擇0~412\n",
    "    ROI_Y = random.randrange(nc-100)\n",
    "    ROI = img[ ROI_X: ROI_X + ROI_nr, ROI_Y:ROI_Y + ROI_nc]\n",
    "    \n",
    "    cv2.imwrite (\"ROI\" + str(i+1).zfill(2) +\".bmp\",ROI)\n",
    "    #題目要求存檔名字為 ROI 01作為開頭，所以將i給+1\n",
    "    #題目要求存檔格式名字為 00,01 所以將數字 i+1轉換成字串後 用zfill填補前面的字串空白"
   ]
  },
  {
   "cell_type": "code",
   "execution_count": null,
   "metadata": {},
   "outputs": [],
   "source": [
    "#cv2.imshow(\"Ex\",img)  #影像顯示\n",
    "#cv2.waitKey(0)  #等待按鍵,才繼續執行。\n",
    "#cv2.destroyAllWindows()  #銷毀與釋放所有視窗"
   ]
  }
 ],
 "metadata": {
  "kernelspec": {
   "display_name": "Python 3",
   "language": "python",
   "name": "python3"
  },
  "language_info": {
   "codemirror_mode": {
    "name": "ipython",
    "version": 3
   },
   "file_extension": ".py",
   "mimetype": "text/x-python",
   "name": "python",
   "nbconvert_exporter": "python",
   "pygments_lexer": "ipython3",
   "version": "3.8.5"
  }
 },
 "nbformat": 4,
 "nbformat_minor": 4
}
